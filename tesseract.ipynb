{
 "cells": [
  {
   "cell_type": "code",
   "execution_count": 8,
   "metadata": {},
   "outputs": [
    {
     "name": "stdout",
     "output_type": "stream",
     "text": [
      "EXIT STRATEGIES\n",
      "\n",
      "The private equity sponsor seeks to exit its investment in a reasonable time horizon (three to\n",
      "seven years, often modeled with a five-year time horizon), and a future liquidation event can\n",
      "include:\n",
      "\n",
      "An initial public offering (“IPO”)\n",
      "Asale to a strategic investor\n",
      "\n",
      "Asale of the company to another private investor\n",
      "\n",
      "A recapitalization, where new debt is issued at a holding company level with the\n",
      "intention of using the proceeds to distribute returns to the equity investors\n",
      "\n",
      "Modeling a Leveraged Buy-Out: A Step-by-Step Approach\n",
      "SUMMARY OF STEPS\n",
      "1. Determine the purchase price and amount of debt and equity required.\n",
      "2. Assign percentage by tranche; assign coupons and repayment percentages to each\n",
      "tranche of debt.\n",
      "Create a sources and uses table.\n",
      "Build an income statement projection.\n",
      "Calculate (levered) free cash flow for principal repayment.\n",
      "Calculate the debt repayment schedule and determine mandatory and optional\n",
      "repayments.\n",
      "Link the debt schedule, cash flow, and income statement.\n",
      "8. Calculate investor returns and sensitivities.\n",
      "\n",
      "ao Pw\n",
      "\n",
      "N\n",
      "\n",
      "Note: Please be sure to review the short-form LBO model included in the accompanying\n",
      "spreadsheet\n",
      "\n",
      "STEP ONE\n",
      "Determine the purchase price and amount of debt and equity required.\n",
      "\n",
      "See Appendix 1, Model Snapshot A: Transactions Assumptions.\n",
      "The purchase price has three components:\n",
      "1. Price of the equity\n",
      "a. If target is a public company, # diluted shares x price/share.\n",
      "\n",
      "b. If private, it may be calculated as enterprise value less debt, plus cash on\n",
      "balance sheet; sometimes the price of the equity can be an output of the LBO\n",
      "model, ie. the price the financial sponsor pays and still generates a sufficient\n",
      "return.\n",
      "\n",
      "2. Fees (advisory and financing)\n",
      "\n",
      "\n"
     ]
    }
   ],
   "source": [
    "import pytesseract\n",
    "from PIL import Image\n",
    "\n",
    "# Path to the Tesseract executable\n",
    "pytesseract.pytesseract.tesseract_cmd = r'C:\\Program Files\\Tesseract-OCR\\tesseract.exe'\n",
    "\n",
    "# Open an image file\n",
    "image = Image.open(r\"C:\\Users\\mutse\\OneDrive\\Documents\\Pictures\\Screenshots\\doc1.png\")\n",
    "\n",
    "# Use Tesseract to do OCR on the image\n",
    "text = pytesseract.image_to_string(image)\n",
    "\n",
    "print(text)\n"
   ]
  }
 ],
 "metadata": {
  "kernelspec": {
   "display_name": "Python 3",
   "language": "python",
   "name": "python3"
  },
  "language_info": {
   "codemirror_mode": {
    "name": "ipython",
    "version": 3
   },
   "file_extension": ".py",
   "mimetype": "text/x-python",
   "name": "python",
   "nbconvert_exporter": "python",
   "pygments_lexer": "ipython3",
   "version": "3.10.11"
  }
 },
 "nbformat": 4,
 "nbformat_minor": 2
}
